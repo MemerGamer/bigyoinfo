{
  "nbformat": 4,
  "nbformat_minor": 0,
  "metadata": {
    "colab": {
      "provenance": []
    },
    "kernelspec": {
      "name": "python3",
      "display_name": "Python 3"
    },
    "language_info": {
      "name": "python"
    }
  },
  "cells": [
    {
      "cell_type": "markdown",
      "source": [
        "# Feladat: Genetikus Algoritmus - Rendszámok Elrejtése\n",
        "Egy ország új rendszámformátumot szeretne bevezetni, amely 7 karakterből áll: az első három pozíció betű (A-Z), az utolsó négy pozíció szám (0-9). Például egy ilyen rendszám lehet: ABC1234.\n",
        "\n",
        "A cél az, hogy olyan rendszámokat generáljunk, amelyek:\n",
        "  1.\tMinél könnyebben megjegyezhetők (például, ha tartalmaz ismétlődő karaktereket).\n",
        "  2.\tSpecifikus mintázatot követnek, például az utolsó számjegy 4 vagy 7.\n",
        "  A genetikus algoritmust használjuk arra, hogy a rendszámokat generáljuk és finomítsuk a megadott cél érdekében.\n",
        "\n",
        "Célok:\n",
        "  1.\tFitness függvény: Minden egyes rendszámot a következő kritériumok alapján értékelj:\n",
        "    *\tMinél több ismétlődő karakter szerepel a rendszámban, annál jobb.\n",
        "    *\tAz utolsó számjegy 4 vagy 7 legyen.\n",
        "    *\tHa az első három betű AAA, BBB vagy CCC, akkor + bónusz pont.\n",
        "  2.\tKeresztezés és mutáció:\n",
        "    *\tKombinálj két rendszámot, hogy újakat hozz létre.\n",
        "    *\tVéletlenszerűen változtass meg egy karaktert mutációval.\n",
        "  3.\tPopuláció: Kezdj véletlenszerű rendszámokkal, és futtasd a genetikus algoritmust, amíg egy megfelelő rendszámot nem találunk.\n",
        "\n"
      ],
      "metadata": {
        "id": "jlD99EcmmgER"
      }
    },
    {
      "cell_type": "code",
      "source": [
        "!pip install deap"
      ],
      "metadata": {
        "colab": {
          "base_uri": "https://localhost:8080/"
        },
        "id": "ymYSJ8V0tNHH",
        "outputId": "cd91d33a-5c6b-425c-d896-59c3581fca3e"
      },
      "execution_count": 1,
      "outputs": [
        {
          "output_type": "stream",
          "name": "stdout",
          "text": [
            "Collecting deap\n",
            "  Downloading deap-1.4.1-cp310-cp310-manylinux_2_5_x86_64.manylinux1_x86_64.manylinux_2_17_x86_64.manylinux2014_x86_64.whl.metadata (13 kB)\n",
            "Requirement already satisfied: numpy in /usr/local/lib/python3.10/dist-packages (from deap) (1.26.4)\n",
            "Downloading deap-1.4.1-cp310-cp310-manylinux_2_5_x86_64.manylinux1_x86_64.manylinux_2_17_x86_64.manylinux2014_x86_64.whl (135 kB)\n",
            "\u001b[?25l   \u001b[90m━━━━━━━━━━━━━━━━━━━━━━━━━━━━━━━━━━━━━━━━\u001b[0m \u001b[32m0.0/135.4 kB\u001b[0m \u001b[31m?\u001b[0m eta \u001b[36m-:--:--\u001b[0m\r\u001b[2K   \u001b[91m━━━━━━━━━━━━━━━━━━━━━\u001b[0m\u001b[90m╺\u001b[0m\u001b[90m━━━━━━━━━━━━━━━━━━\u001b[0m \u001b[32m71.7/135.4 kB\u001b[0m \u001b[31m2.5 MB/s\u001b[0m eta \u001b[36m0:00:01\u001b[0m\r\u001b[2K   \u001b[90m━━━━━━━━━━━━━━━━━━━━━━━━━━━━━━━━━━━━━━━━\u001b[0m \u001b[32m135.4/135.4 kB\u001b[0m \u001b[31m2.4 MB/s\u001b[0m eta \u001b[36m0:00:00\u001b[0m\n",
            "\u001b[?25hInstalling collected packages: deap\n",
            "Successfully installed deap-1.4.1\n"
          ]
        }
      ]
    },
    {
      "cell_type": "code",
      "execution_count": 2,
      "metadata": {
        "colab": {
          "base_uri": "https://localhost:8080/"
        },
        "id": "RzelAztamZtV",
        "outputId": "ff729055-dede-45fd-ad14-5de2377ead36"
      },
      "outputs": [
        {
          "output_type": "stream",
          "name": "stdout",
          "text": [
            "gen\tnevals\tavg \tmax\n",
            "0  \t100   \t1.23\t5  \n",
            "1  \t80    \t2.02\t4  \n",
            "2  \t80    \t3.25\t5  \n",
            "3  \t76    \t3.8 \t6  \n",
            "4  \t72    \t4.03\t6  \n",
            "5  \t84    \t4.2 \t6  \n",
            "6  \t79    \t4.64\t6  \n",
            "7  \t86    \t4.91\t6  \n",
            "8  \t80    \t5.11\t6  \n",
            "9  \t81    \t5.24\t6  \n",
            "10 \t73    \t5.48\t6  \n",
            "11 \t75    \t5.76\t6  \n",
            "12 \t80    \t5.7 \t6  \n",
            "13 \t72    \t5.84\t7  \n",
            "14 \t77    \t5.85\t7  \n",
            "15 \t81    \t5.74\t7  \n",
            "16 \t80    \t5.79\t7  \n",
            "17 \t84    \t5.96\t7  \n",
            "18 \t74    \t6.21\t7  \n",
            "19 \t75    \t6.59\t8  \n",
            "20 \t82    \t6.73\t8  \n",
            "21 \t82    \t6.78\t8  \n",
            "22 \t69    \t6.89\t8  \n",
            "23 \t71    \t7.1 \t8  \n",
            "24 \t77    \t7.34\t8  \n",
            "25 \t72    \t7.46\t8  \n",
            "26 \t84    \t7.55\t8  \n",
            "27 \t88    \t7.68\t8  \n",
            "28 \t84    \t7.87\t8  \n",
            "29 \t84    \t7.61\t8  \n",
            "30 \t74    \t7.75\t8  \n",
            "31 \t75    \t7.76\t8  \n",
            "32 \t77    \t7.78\t8  \n",
            "33 \t76    \t7.81\t8  \n",
            "34 \t78    \t7.78\t8  \n",
            "35 \t72    \t7.71\t8  \n",
            "36 \t78    \t7.71\t8  \n",
            "37 \t72    \t7.79\t8  \n",
            "38 \t77    \t7.75\t8  \n",
            "39 \t73    \t7.73\t8  \n",
            "40 \t72    \t7.67\t8  \n",
            "41 \t77    \t7.72\t8  \n",
            "42 \t80    \t7.76\t8  \n",
            "43 \t85    \t7.8 \t8  \n",
            "44 \t78    \t7.72\t8  \n",
            "45 \t73    \t7.83\t8  \n",
            "46 \t80    \t7.75\t8  \n",
            "47 \t81    \t7.65\t8  \n",
            "48 \t79    \t7.71\t8  \n",
            "49 \t75    \t7.77\t8  \n",
            "50 \t81    \t7.7 \t8  \n",
            "\n",
            "Legjobb rendszám: MMM4444\n",
            "Fitness érték: 8.0\n"
          ]
        }
      ],
      "source": [
        "import random\n",
        "from deap import base, creator, tools, algorithms\n",
        "\n",
        "# Fitness függvény definiálása\n",
        "def evaluate_license(license_plate):\n",
        "  score = 0\n",
        "\n",
        "  # Kritérium: ismétlődő karakterek\n",
        "  score += len(license_plate) - len(set(license_plate))\n",
        "\n",
        "  # Kritérium: utolsó számjegy 4 vagy 7\n",
        "  if license_plate[-1] in \"47\":\n",
        "    score += 3\n",
        "\n",
        "  # Kritérium: első három betű \"AAA\", \"BBB\", \"CCC\"\n",
        "  if ''.join(license_plate[:3]) in [\"AAA\", \"BBB\", \"CCC\"]:\n",
        "    score += 5\n",
        "\n",
        "  return (score,)\n",
        "\n",
        "# Genetikus algoritmus inicializálása\n",
        "creator.create(\"FitnessMax\", base.Fitness, weights=(1.0,))\n",
        "creator.create(\"Individual\", list, fitness=creator.FitnessMax)\n",
        "\n",
        "toolbox = base.Toolbox()\n",
        "\n",
        "# Véletlenszerű rendszám generálása\n",
        "def random_license():\n",
        "  letters = ''.join(random.choices(\"ABCDEFGHIJKLMNOPQRSTUVWXYZ\", k=3))\n",
        "  numbers = ''.join(random.choices(\"0123456789\", k=4))\n",
        "  return list(letters + numbers)\n",
        "\n",
        "# Egyén és populáció létrehozása\n",
        "toolbox.register(\"individual\", tools.initIterate, creator.Individual, random_license)\n",
        "toolbox.register(\"population\", tools.initRepeat, list, toolbox.individual)\n",
        "\n",
        "# Genetikus operátorok\n",
        "toolbox.register(\"evaluate\", evaluate_license)\n",
        "toolbox.register(\"mate\", tools.cxTwoPoint)\n",
        "toolbox.register(\"mutate\", tools.mutUniformInt, low=0, up=35, indpb=0.1)  # Mutáció: véletlen módosítás\n",
        "toolbox.register(\"select\", tools.selTournament, tournsize=3)\n",
        "\n",
        "# Dekódolás a karakterek és számok között\n",
        "def decode_license(license_plate):\n",
        "  return ''.join(license_plate)\n",
        "\n",
        "# Véletlen mutáció adaptálása\n",
        "def custom_mutate(individual):\n",
        "  index = random.randint(0, len(individual) - 1)\n",
        "  if index < 3:  # Betű\n",
        "    individual[index] = random.choice(\"ABCDEFGHIJKLMNOPQRSTUVWXYZ\")\n",
        "  else:  # Szám\n",
        "    individual[index] = random.choice(\"0123456789\")\n",
        "  return individual,\n",
        "\n",
        "toolbox.register(\"mutate\", custom_mutate)\n",
        "\n",
        "# Evolúció futtatása\n",
        "def run_evolution(pop_size=100, generations=50):\n",
        "  population = toolbox.population(n=pop_size)\n",
        "\n",
        "  # Statisztika Elemzése:\n",
        "  # A stats objektum most a fitness érték első eleme alapján működik:\n",
        "  # Stat útján követhetjük a fejlődést\n",
        "  stats = tools.Statistics(lambda ind: ind.fitness.values[0])  # Fitness tuple első eleme\n",
        "\n",
        "  # Átlag Számítás:\n",
        "  # Az avg a tuple első értékeinek átlagát számolja\n",
        "  stats.register(\"avg\", lambda x: sum(x) / len(x))  # Átlag\n",
        "  stats.register(\"max\", max)  # Maximum érték\n",
        "\n",
        "  hof = tools.HallOfFame(1)  # Legjobb egyed tárolása\n",
        "\n",
        "  population, logbook = algorithms.eaSimple(\n",
        "    population,\n",
        "    toolbox,\n",
        "    cxpb=0.7,\n",
        "    mutpb=0.2,\n",
        "    ngen=generations,\n",
        "    stats=stats,\n",
        "    halloffame=hof,\n",
        "    verbose=True\n",
        "  )\n",
        "\n",
        "  return population, logbook, hof\n",
        "\n",
        "# Kód futtatása\n",
        "if __name__ == \"__main__\":\n",
        "  population, logbook, hof = run_evolution()\n",
        "\n",
        "  print(\"\\nLegjobb rendszám:\", decode_license(hof[0]))\n",
        "  print(\"Fitness érték:\", hof[0].fitness.values[0])\n"
      ]
    },
    {
      "cell_type": "markdown",
      "source": [
        "Az evolúciós algoritmus futása során a gen, nevals, avg és max oszlopok a populáció fejlődését követik nyomon az egyes generációkban.\n",
        "\n",
        "Az oszlopok jelentése:\n",
        "1. gen (Generation):\n",
        "  * Az aktuális generáció száma. Az evolúció az 1. generációból indul, és a megadott ngen (pl. 50) generációszámig fut.\n",
        "\n",
        "2. nevals (Number of Evaluations):\n",
        "  * Az adott generációban kiértékelt egyedek (individuális megoldások) száma. Ez az algoritmus által meghívott evaluate függvények számlálója.\n",
        "\n",
        "3. avg (Average Fitness):\n",
        "  * Az adott generáció összes egyedének átlagos fitness értéke. Ez mutatja, hogy a populáció általános teljesítménye hogyan változik az idő előrehaladtával.\n",
        "\n",
        "4. max (Maximum Fitness):\n",
        "  * Az adott generáció legjobb egyedének fitness értéke. Ez az oszlop követi, hogy az algoritmus legjobb megoldása hogyan javul a generációk során."
      ],
      "metadata": {
        "id": "NbZEBrb23qfE"
      }
    }
  ]
}