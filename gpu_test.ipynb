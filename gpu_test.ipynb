{
 "cells": [
  {
   "cell_type": "code",
   "execution_count": 2,
   "metadata": {},
   "outputs": [
    {
     "name": "stdout",
     "output_type": "stream",
     "text": [
      "2.18.0\n",
      "[PhysicalDevice(name='/physical_device:GPU:0', device_type='GPU')]\n"
     ]
    }
   ],
   "source": [
    "import tensorflow as tf\n",
    "print(tf.__version__)\n",
    "print(tf.config.list_physical_devices('GPU'))"
   ]
  },
  {
   "cell_type": "code",
   "execution_count": 4,
   "metadata": {},
   "outputs": [
    {
     "name": "stdout",
     "output_type": "stream",
     "text": [
      "Result of matrix multiplication:\n",
      " [[1. 2.]\n",
      " [3. 4.]]\n"
     ]
    }
   ],
   "source": [
    "# Create a simple operation\n",
    "with tf.device('/GPU:0'):  # Explicitly run on GPU\n",
    "    a = tf.constant([[1.0, 2.0], [3.0, 4.0]])\n",
    "    b = tf.constant([[1.0, 0.0], [0.0, 1.0]])\n",
    "    c = tf.matmul(a, b)\n",
    "\n",
    "print(\"Result of matrix multiplication:\\n\", c.numpy())"
   ]
  },
  {
   "cell_type": "code",
   "execution_count": 7,
   "metadata": {},
   "outputs": [
    {
     "name": "stdout",
     "output_type": "stream",
     "text": [
      "Result: tf.Tensor([5. 7. 9.], shape=(3,), dtype=float32)\n"
     ]
    }
   ],
   "source": [
    "tf.debugging.set_log_device_placement(True)  # Logs device placement\n",
    "\n",
    "# Perform a simple operation\n",
    "a = tf.constant([1.0, 2.0, 3.0])\n",
    "b = tf.constant([4.0, 5.0, 6.0])\n",
    "c = tf.add(a, b)\n",
    "\n",
    "print(\"Result:\", c)\n"
   ]
  },
  {
   "cell_type": "code",
   "execution_count": 8,
   "metadata": {},
   "outputs": [
    {
     "name": "stdout",
     "output_type": "stream",
     "text": [
      "Time taken (GPU): 0.00917363166809082\n"
     ]
    }
   ],
   "source": [
    "import time\n",
    "\n",
    "# Create a large tensor\n",
    "with tf.device('/GPU:0'):  # Force GPU usage\n",
    "    large_matrix = tf.random.uniform((10000, 10000), 0, 1)\n",
    "\n",
    "# Measure execution time\n",
    "start_time = time.time()\n",
    "with tf.device('/GPU:0'):  # Force GPU usage\n",
    "    result = tf.matmul(large_matrix, large_matrix)\n",
    "end_time = time.time()\n",
    "\n",
    "print(\"Time taken (GPU):\", end_time - start_time)"
   ]
  },
  {
   "cell_type": "code",
   "execution_count": 9,
   "metadata": {},
   "outputs": [
    {
     "name": "stdout",
     "output_type": "stream",
     "text": [
      "Time taken on CPU: 19.401115655899048\n",
      "Time taken on GPU: 0.005838871002197266\n"
     ]
    }
   ],
   "source": [
    "# Create a large tensor\n",
    "large_matrix = tf.random.uniform((10000, 10000), 0, 1)\n",
    "\n",
    "# Run on CPU\n",
    "start_cpu = time.time()\n",
    "with tf.device('/CPU:0'):\n",
    "    result_cpu = tf.matmul(large_matrix, large_matrix)\n",
    "end_cpu = time.time()\n",
    "\n",
    "# Run on GPU\n",
    "start_gpu = time.time()\n",
    "with tf.device('/GPU:0'):\n",
    "    result_gpu = tf.matmul(large_matrix, large_matrix)\n",
    "end_gpu = time.time()\n",
    "\n",
    "print(\"Time taken on CPU:\", end_cpu - start_cpu)\n",
    "print(\"Time taken on GPU:\", end_gpu - start_gpu)"
   ]
  }
 ],
 "metadata": {
  "kernelspec": {
   "display_name": ".venv",
   "language": "python",
   "name": "python3"
  },
  "language_info": {
   "codemirror_mode": {
    "name": "ipython",
    "version": 3
   },
   "file_extension": ".py",
   "mimetype": "text/x-python",
   "name": "python",
   "nbconvert_exporter": "python",
   "pygments_lexer": "ipython3",
   "version": "3.12.7"
  }
 },
 "nbformat": 4,
 "nbformat_minor": 2
}
