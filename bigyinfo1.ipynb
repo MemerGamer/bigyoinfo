{
  "cells": [
    {
      "cell_type": "markdown",
      "metadata": {},
      "source": [
        "## 1. Excercise"
      ]
    },
    {
      "cell_type": "code",
      "execution_count": 1,
      "metadata": {
        "colab": {
          "base_uri": "https://localhost:8080/"
        },
        "id": "TwlqbOD8Lbzh",
        "outputId": "4325d3a8-724a-4fa5-f792-c3b1dbb8b9d2"
      },
      "outputs": [],
      "source": [
        "import random\n",
        "import numpy as np\n",
        "import matplotlib.pyplot as plt\n",
        "\n",
        "\n",
        "# Robot arm parameters\n",
        "L1 = 5\n",
        "L2 = 3\n",
        "target = (6, 4)"
      ]
    },
    {
      "cell_type": "code",
      "execution_count": 2,
      "metadata": {},
      "outputs": [],
      "source": [
        "def fitness(angles):\n",
        "    thetha1, thetha2 = np.radians(angles)\n",
        "    \n",
        "    x = L1 * np.cos(thetha1) + L2 * np.cos(thetha1 + thetha2)\n",
        "    y = L1 * np.sin(thetha1) + L2 * np.sin(thetha1 + thetha2)\n",
        "    \n",
        "    return np.sqrt((x - target[0]) ** 2 + (y - target[1]) ** 2)"
      ]
    },
    {
      "cell_type": "code",
      "execution_count": 3,
      "metadata": {},
      "outputs": [],
      "source": [
        "def init_population(pop_size):\n",
        "    return np.random.uniform(0, 180, (pop_size, 2))"
      ]
    },
    {
      "cell_type": "code",
      "execution_count": 4,
      "metadata": {},
      "outputs": [],
      "source": [
        "def selection(population, fitness_value, num_parents):\n",
        "    parents_idx = np.argsort(fitness_value)[:num_parents]\n",
        "    return population[parents_idx]"
      ]
    },
    {
      "cell_type": "code",
      "execution_count": 5,
      "metadata": {},
      "outputs": [],
      "source": [
        "def crossover(parents, pop_size):\n",
        "    offspring = []\n",
        "    while len(offspring) < pop_size:\n",
        "        parent1, parent2 = random.sample(parents.tolist(), 2)\n",
        "        crossover_point = random.randint(0, 1)\n",
        "        child = [parent1[0], parent2[1]] if crossover_point == 0 else [parent2[0], parent1[1]]\n",
        "        offspring.append(child)\n",
        "    return np.array(offspring)"
      ]
    },
    {
      "cell_type": "code",
      "execution_count": 6,
      "metadata": {},
      "outputs": [],
      "source": [
        "def mutation(offspring, mutation_rate):\n",
        "    for child in offspring:\n",
        "        if random.random() < mutation_rate:\n",
        "            mutation_point = random.randint(0, 1)\n",
        "            child[mutation_point] += np.random.uniform(-10, 10)\n",
        "            child[mutation_point] = np.clip(child[mutation_point], 0, 180)\n",
        "    return offspring"
      ]
    },
    {
      "cell_type": "code",
      "execution_count": 7,
      "metadata": {},
      "outputs": [],
      "source": [
        "def algorithm(pop_size, num_generations, mutation_rate):\n",
        "    population = init_population(pop_size)\n",
        "    best_fitness_list = []\n",
        "    for generation in range(num_generations):\n",
        "        fitness_value = np.array([fitness(ind) for ind in population])\n",
        "        best_fitness = np.min(fitness_value)\n",
        "        best_fitness_list.append(best_fitness)\n",
        "        \n",
        "        # selection\n",
        "        parents = selection(population, fitness_value, pop_size//2)\n",
        "        \n",
        "        # crossover\n",
        "        offspring = crossover(parents, pop_size)\n",
        "        \n",
        "        # mutation\n",
        "        offspring = mutation(offspring, mutation_rate)\n",
        "        \n",
        "        population = offspring\n",
        "        \n",
        "        print(f\"Generation {generation}: Best fitness = {best_fitness}\")\n",
        "    \n",
        "    return best_fitness_list, population"
      ]
    },
    {
      "cell_type": "code",
      "execution_count": 8,
      "metadata": {},
      "outputs": [
        {
          "name": "stdout",
          "output_type": "stream",
          "text": [
            "Generation 0: Best fitness = 2.148575881336733\n",
            "Generation 1: Best fitness = 1.5630173693461604\n",
            "Generation 2: Best fitness = 1.0166630379090336\n",
            "Generation 3: Best fitness = 0.6784381534410067\n",
            "Generation 4: Best fitness = 1.3525739897339741\n",
            "Generation 5: Best fitness = 0.7820655970012041\n",
            "Generation 6: Best fitness = 1.0166630379090336\n",
            "Generation 7: Best fitness = 1.0166630379090336\n",
            "Generation 8: Best fitness = 0.919137116311575\n",
            "Generation 9: Best fitness = 0.919137116311575\n",
            "Generation 10: Best fitness = 0.919137116311575\n",
            "Generation 11: Best fitness = 0.919137116311575\n",
            "Generation 12: Best fitness = 0.9279461786384025\n",
            "Generation 13: Best fitness = 0.7544051613917471\n",
            "Generation 14: Best fitness = 0.7544051613917471\n",
            "Generation 15: Best fitness = 0.6635344412124169\n",
            "Generation 16: Best fitness = 0.6668341580558732\n",
            "Generation 17: Best fitness = 0.6141405862585847\n",
            "Generation 18: Best fitness = 0.6635344412124169\n",
            "Generation 19: Best fitness = 0.6477328402483193\n",
            "Generation 20: Best fitness = 0.6435713149505189\n",
            "Generation 21: Best fitness = 0.6435713149505189\n",
            "Generation 22: Best fitness = 0.6435713149505189\n",
            "Generation 23: Best fitness = 0.6435713149505189\n",
            "Generation 24: Best fitness = 0.5218950478596367\n",
            "Generation 25: Best fitness = 0.5218950478596367\n",
            "Generation 26: Best fitness = 0.5218950478596367\n",
            "Generation 27: Best fitness = 0.5218950478596367\n",
            "Generation 28: Best fitness = 0.5218950478596367\n",
            "Generation 29: Best fitness = 0.5218950478596367\n",
            "Generation 30: Best fitness = 0.5218950478596367\n",
            "Generation 31: Best fitness = 0.407592235828709\n",
            "Generation 32: Best fitness = 0.5218950478596367\n",
            "Generation 33: Best fitness = 0.5218950478596367\n",
            "Generation 34: Best fitness = 0.42992394371738196\n",
            "Generation 35: Best fitness = 0.42992394371738196\n",
            "Generation 36: Best fitness = 0.41755753491357483\n",
            "Generation 37: Best fitness = 0.41755753491357483\n",
            "Generation 38: Best fitness = 0.41755753491357483\n",
            "Generation 39: Best fitness = 0.41755753491357483\n",
            "Generation 40: Best fitness = 0.41755753491357483\n",
            "Generation 41: Best fitness = 0.41755753491357483\n",
            "Generation 42: Best fitness = 0.40231841645559185\n",
            "Generation 43: Best fitness = 0.40231841645559185\n",
            "Generation 44: Best fitness = 0.25043749160603274\n",
            "Generation 45: Best fitness = 0.25043749160603274\n",
            "Generation 46: Best fitness = 0.25043749160603274\n",
            "Generation 47: Best fitness = 0.25043749160603274\n",
            "Generation 48: Best fitness = 0.06990502732094185\n",
            "Generation 49: Best fitness = 0.1398682387994576\n",
            "Generation 50: Best fitness = 0.1398682387994576\n",
            "Generation 51: Best fitness = 0.1398682387994576\n",
            "Generation 52: Best fitness = 0.13358673968895496\n",
            "Generation 53: Best fitness = 0.13358673968895496\n",
            "Generation 54: Best fitness = 0.13358673968895496\n",
            "Generation 55: Best fitness = 0.13358673968895496\n",
            "Generation 56: Best fitness = 0.13358673968895496\n",
            "Generation 57: Best fitness = 0.1242777900501367\n",
            "Generation 58: Best fitness = 0.13358673968895496\n",
            "Generation 59: Best fitness = 0.06775396678798216\n",
            "Generation 60: Best fitness = 0.06775396678798216\n",
            "Generation 61: Best fitness = 0.06775396678798216\n",
            "Generation 62: Best fitness = 0.06775396678798216\n",
            "Generation 63: Best fitness = 0.06775396678798216\n",
            "Generation 64: Best fitness = 0.06775396678798216\n",
            "Generation 65: Best fitness = 0.06775396678798216\n",
            "Generation 66: Best fitness = 0.06775396678798216\n",
            "Generation 67: Best fitness = 0.06775396678798216\n",
            "Generation 68: Best fitness = 0.06775396678798216\n",
            "Generation 69: Best fitness = 0.06775396678798216\n",
            "Generation 70: Best fitness = 0.0673266857531859\n",
            "Generation 71: Best fitness = 0.0673266857531859\n",
            "Generation 72: Best fitness = 0.06694125839101583\n",
            "Generation 73: Best fitness = 0.0673266857531859\n",
            "Generation 74: Best fitness = 0.0673266857531859\n",
            "Generation 75: Best fitness = 0.0673266857531859\n",
            "Generation 76: Best fitness = 0.0673266857531859\n",
            "Generation 77: Best fitness = 0.0673266857531859\n",
            "Generation 78: Best fitness = 0.0673266857531859\n",
            "Generation 79: Best fitness = 0.06727220802703336\n",
            "Generation 80: Best fitness = 0.06727220802703336\n",
            "Generation 81: Best fitness = 0.06727220802703336\n",
            "Generation 82: Best fitness = 0.06727220802703336\n",
            "Generation 83: Best fitness = 0.06727220802703336\n",
            "Generation 84: Best fitness = 0.06727220802703336\n",
            "Generation 85: Best fitness = 0.06727220802703336\n",
            "Generation 86: Best fitness = 0.06727220802703336\n",
            "Generation 87: Best fitness = 0.06727220802703336\n",
            "Generation 88: Best fitness = 0.06727220802703336\n",
            "Generation 89: Best fitness = 0.06727220802703336\n",
            "Generation 90: Best fitness = 0.06727220802703336\n",
            "Generation 91: Best fitness = 0.05110582110884354\n",
            "Generation 92: Best fitness = 0.05110582110884354\n",
            "Generation 93: Best fitness = 0.05110582110884354\n",
            "Generation 94: Best fitness = 0.05110582110884354\n",
            "Generation 95: Best fitness = 0.05110582110884354\n",
            "Generation 96: Best fitness = 0.05110582110884354\n",
            "Generation 97: Best fitness = 0.05110582110884354\n",
            "Generation 98: Best fitness = 0.05110582110884354\n",
            "Generation 99: Best fitness = 0.047405900151050034\n"
          ]
        },
        {
          "data": {
            "image/png": "[encoded data removed]",
            "text/plain": [
              "<Figure size 640x480 with 1 Axes>"
            ]
          },
          "metadata": {},
          "output_type": "display_data"
        },
        {
          "name": "stdout",
          "output_type": "stream",
          "text": [
            "Best individual: [13.63503216 53.98001678]\n",
            "Best fitness value: 0.047405900151050034\n"
          ]
        }
      ],
      "source": [
        "pop_size = 30\n",
        "num_generations = 100\n",
        "mutation_rate = 0.1\n",
        "\n",
        "best_fitness_list, population = algorithm(pop_size, num_generations, mutation_rate)\n",
        "\n",
        "plt.plot(best_fitness_list)\n",
        "plt.xlabel(\"Generation\")\n",
        "plt.ylabel(\"Best fitness\")\n",
        "plt.title(\"Evolution of best fitness - Robot arm\")\n",
        "plt.show()\n",
        "\n",
        "# best fitness value\n",
        "final_fitness_value = np.array([fitness(i) for i in population])\n",
        "best_individual = population[np.argmin(final_fitness_value)]\n",
        "\n",
        "print(\"Best individual:\", best_individual)\n",
        "print(\"Best fitness value:\", np.min(final_fitness_value))"
      ]
    }
  ],
  "metadata": {
    "accelerator": "GPU",
    "colab": {
      "gpuType": "T4",
      "provenance": []
    },
    "kernelspec": {
      "display_name": ".venv",
      "language": "python",
      "name": "python3"
    },
    "language_info": {
      "codemirror_mode": {
        "name": "ipython",
        "version": 3
      },
      "file_extension": ".py",
      "mimetype": "text/x-python",
      "name": "python",
      "nbconvert_exporter": "python",
      "pygments_lexer": "ipython3",
      "version": "3.12.7"
    }
  },
  "nbformat": 4,
  "nbformat_minor": 0
}
