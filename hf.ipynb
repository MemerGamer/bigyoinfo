{
  "nbformat": 4,
  "nbformat_minor": 0,
  "metadata": {
    "colab": {
      "provenance": []
    },
    "kernelspec": {
      "name": "python3",
      "display_name": "Python 3"
    },
    "language_info": {
      "name": "python"
    }
  },
  "cells": [
    {
      "cell_type": "markdown",
      "source": [
        "# Feladat: Genetikus Algoritmus - Rendszámok Elrejtése\n",
        "Egy ország új rendszámformátumot szeretne bevezetni, amely 7 karakterből áll: az első három pozíció betű (A-Z), az utolsó négy pozíció szám (0-9). Például egy ilyen rendszám lehet: ABC1234.\n",
        "\n",
        "A cél az, hogy olyan rendszámokat generáljunk, amelyek:\n",
        "  1.\tMinél könnyebben megjegyezhetők (például, ha tartalmaz ismétlődő karaktereket).\n",
        "  2.\tSpecifikus mintázatot követnek, például az utolsó számjegy 4 vagy 7.\n",
        "  A genetikus algoritmust használjuk arra, hogy a rendszámokat generáljuk és finomítsuk a megadott cél érdekében.\n",
        "\n",
        "Célok:\n",
        "  1.\tFitness függvény: Minden egyes rendszámot a következő kritériumok alapján értékelj:\n",
        "    *\tMinél több ismétlődő karakter szerepel a rendszámban, annál jobb.\n",
        "    *\tAz utolsó számjegy 4 vagy 7 legyen.\n",
        "    *\tHa az első három betű AAA, BBB vagy CCC, akkor + bónusz pont.\n",
        "  2.\tKeresztezés és mutáció:\n",
        "    *\tKombinálj két rendszámot, hogy újakat hozz létre.\n",
        "    *\tVéletlenszerűen változtass meg egy karaktert mutációval.\n",
        "  3.\tPopuláció: Kezdj véletlenszerű rendszámokkal, és futtasd a genetikus algoritmust, amíg egy megfelelő rendszámot nem találunk.\n",
        "\n"
      ],
      "metadata": {
        "id": "bdrD6iHb5g9C"
      }
    },
    {
      "cell_type": "code",
      "execution_count": 351,
      "metadata": {
        "colab": {
          "base_uri": "https://localhost:8080/"
        },
        "id": "n2Xm2RcxvFb1",
        "outputId": "25a082fc-080b-422c-b8fc-09ec051a92f0"
      },
      "outputs": [
        {
          "output_type": "stream",
          "name": "stdout",
          "text": [
            "Requirement already satisfied: pygad in /usr/local/lib/python3.10/dist-packages (3.3.1)\n",
            "Requirement already satisfied: cloudpickle in /usr/local/lib/python3.10/dist-packages (from pygad) (3.1.0)\n",
            "Requirement already satisfied: matplotlib in /usr/local/lib/python3.10/dist-packages (from pygad) (3.8.0)\n",
            "Requirement already satisfied: numpy in /usr/local/lib/python3.10/dist-packages (from pygad) (1.26.4)\n",
            "Requirement already satisfied: contourpy>=1.0.1 in /usr/local/lib/python3.10/dist-packages (from matplotlib->pygad) (1.3.1)\n",
            "Requirement already satisfied: cycler>=0.10 in /usr/local/lib/python3.10/dist-packages (from matplotlib->pygad) (0.12.1)\n",
            "Requirement already satisfied: fonttools>=4.22.0 in /usr/local/lib/python3.10/dist-packages (from matplotlib->pygad) (4.55.0)\n",
            "Requirement already satisfied: kiwisolver>=1.0.1 in /usr/local/lib/python3.10/dist-packages (from matplotlib->pygad) (1.4.7)\n",
            "Requirement already satisfied: packaging>=20.0 in /usr/local/lib/python3.10/dist-packages (from matplotlib->pygad) (24.2)\n",
            "Requirement already satisfied: pillow>=6.2.0 in /usr/local/lib/python3.10/dist-packages (from matplotlib->pygad) (11.0.0)\n",
            "Requirement already satisfied: pyparsing>=2.3.1 in /usr/local/lib/python3.10/dist-packages (from matplotlib->pygad) (3.2.0)\n",
            "Requirement already satisfied: python-dateutil>=2.7 in /usr/local/lib/python3.10/dist-packages (from matplotlib->pygad) (2.8.2)\n",
            "Requirement already satisfied: six>=1.5 in /usr/local/lib/python3.10/dist-packages (from python-dateutil>=2.7->matplotlib->pygad) (1.16.0)\n"
          ]
        }
      ],
      "source": [
        "!pip install pygad"
      ]
    },
    {
      "cell_type": "code",
      "source": [
        "import random\n",
        "import string\n",
        "import pygad\n",
        "import numpy as np"
      ],
      "metadata": {
        "id": "HUeo-Xuy7dds"
      },
      "execution_count": 352,
      "outputs": []
    },
    {
      "cell_type": "code",
      "source": [
        "# 1. Fitness függvény\n",
        "def fitness(ga_instance, solution, solution_idx):\n",
        "    license_plate = \"\".join(map(chr, solution))\n",
        "\n",
        "    fitness = 0\n",
        "    char_count = {char: license_plate.count(char) for char in set(license_plate)}\n",
        "    for count in char_count.values():\n",
        "        if count > 1:\n",
        "            fitness += (count - 1) ** 2  # Ismétlődés megjutalmazása\n",
        "\n",
        "    if license_plate[-1] in [\"4\", \"7\"]:\n",
        "        fitness += 15\n",
        "    else:\n",
        "        fitness -= 5\n",
        "\n",
        "    if license_plate[:3] in [\"AAA\", \"BBB\", \"CCC\"]:\n",
        "        fitness += 20\n",
        "\n",
        "    return fitness\n"
      ],
      "metadata": {
        "id": "_Gl5iw6y7g-E"
      },
      "execution_count": 353,
      "outputs": []
    },
    {
      "cell_type": "code",
      "source": [
        "# 2. Keresztezés és mutáció\n",
        "def crossover(parents, offspring_size, ga_instance):\n",
        "    offspring = []\n",
        "    num_parents = len(parents)\n",
        "\n",
        "    for k in range(offspring_size[0]):\n",
        "        parent1_idx, parent2_idx = random.sample(range(num_parents), 2)\n",
        "        parent1 = parents[parent1_idx]\n",
        "        parent2 = parents[parent2_idx]\n",
        "\n",
        "        crossover_point = random.randint(1, len(parent1) - 1)\n",
        "        child = np.concatenate((parent1[:crossover_point], parent2[crossover_point:]))\n",
        "        offspring.append(child)\n",
        "\n",
        "    return np.array(offspring)\n",
        "\n",
        "def mutation(offspring, ga_instance):\n",
        "    for child in offspring:\n",
        "        if random.random() < 0.2:\n",
        "            idx = random.randint(0, len(child) - 1)\n",
        "            if idx < 3:\n",
        "                child[idx] = random.randint(65, 90)  # ASCII A-Z\n",
        "            else:\n",
        "                child[idx] = random.randint(48, 57)  # ASCII 0-9\n",
        "    return offspring\n"
      ],
      "metadata": {
        "id": "5-WwEQYr5vK-"
      },
      "execution_count": 354,
      "outputs": []
    },
    {
      "cell_type": "code",
      "source": [
        "# 3. Populáció\n",
        "def license_plate_generator():\n",
        "    prefix = [random.randint(65, 90) for _ in range(3)]\n",
        "    suffix = [random.randint(48, 57) for _ in range(4)]\n",
        "    return prefix + suffix"
      ],
      "metadata": {
        "id": "OO37HTzQ7lR8"
      },
      "execution_count": 355,
      "outputs": []
    },
    {
      "cell_type": "code",
      "source": [
        "# Kezdeti populáció\n",
        "population = [license_plate_generator() for _ in range(200)]"
      ],
      "metadata": {
        "id": "z-Z_UqhJ77s_"
      },
      "execution_count": 356,
      "outputs": []
    },
    {
      "cell_type": "code",
      "source": [
        "# GA konfiguráció\n",
        "ga_instance = pygad.GA(\n",
        "    num_generations=500,\n",
        "    num_parents_mating=30,\n",
        "    fitness_func=fitness,\n",
        "    sol_per_pop=300,\n",
        "    num_genes=7,\n",
        "    gene_type=int,\n",
        "    gene_space=[\n",
        "        {'low': 65, 'high': 90},  # A-Z ASCII karakterek\n",
        "        {'low': 65, 'high': 90},\n",
        "        {'low': 65, 'high': 90},\n",
        "        {'low': 48, 'high': 57},  # 0-9 ASCII karakterek\n",
        "        {'low': 48, 'high': 57},\n",
        "        {'low': 48, 'high': 57},\n",
        "        {'low': 48, 'high': 57}\n",
        "    ],\n",
        "    parent_selection_type=\"tournament\",\n",
        "    crossover_type=crossover,\n",
        "    mutation_type=mutation,\n",
        "    mutation_percent_genes=30,\n",
        "    stop_criteria=[\"saturate_100\"],\n",
        "    random_seed=None\n",
        ")\n",
        "# Futás\n",
        "ga_instance.run()\n",
        "\n",
        "# Legjobb megoldás\n",
        "solution, solution_fitness, solution_idx = ga_instance.best_solution()\n",
        "print(f\"Best license plate: {''.join(map(chr, solution))}, Fitness: {solution_fitness}\")"
      ],
      "metadata": {
        "colab": {
          "base_uri": "https://localhost:8080/"
        },
        "id": "Kr5w9dos8CPO",
        "outputId": "6facb7ef-8f6e-4c35-ce59-ebee503d756c"
      },
      "execution_count": 358,
      "outputs": [
        {
          "output_type": "stream",
          "name": "stdout",
          "text": [
            "Best license plate: EEE7777, Fitness: 28\n"
          ]
        }
      ]
    }
  ]
}